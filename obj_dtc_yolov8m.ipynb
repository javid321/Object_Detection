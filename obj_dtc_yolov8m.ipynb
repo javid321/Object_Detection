{
 "cells": [
  {
   "cell_type": "code",
   "execution_count": null,
   "metadata": {},
   "outputs": [],
   "source": [
    "from ultralytics import YOLO\n",
    "\n",
    "model =YOLO(\"yolov8m.pt\")\n",
    "model.train(data=\"data_custom.yaml\", batch=4, imgsz=640, epochs=5, workers=1)"
   ]
  }
 ],
 "metadata": {
  "language_info": {
   "name": "python"
  },
  "orig_nbformat": 4
 },
 "nbformat": 4,
 "nbformat_minor": 2
}
